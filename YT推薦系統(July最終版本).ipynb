{
 "cells": [
  {
   "cell_type": "markdown",
   "metadata": {},
   "source": [
    "# 此為最終版本"
   ]
  },
  {
   "cell_type": "code",
   "execution_count": 2,
   "metadata": {},
   "outputs": [
    {
     "name": "stdout",
     "output_type": "stream",
     "text": [
      "Collecting pymongo\n",
      "  Downloading pymongo-3.11.4-cp38-cp38-macosx_10_9_x86_64.whl (380 kB)\n",
      "\u001b[K     |████████████████████████████████| 380 kB 424 kB/s eta 0:00:01\n",
      "\u001b[?25hInstalling collected packages: pymongo\n",
      "Successfully installed pymongo-3.11.4\n",
      "\u001b[33mWARNING: You are using pip version 21.1.1; however, version 21.1.3 is available.\n",
      "You should consider upgrading via the '/Users/ian/opt/anaconda3/bin/python -m pip install --upgrade pip' command.\u001b[0m\n"
     ]
    }
   ],
   "source": [
    "!pip install pymongo"
   ]
  },
  {
   "cell_type": "code",
   "execution_count": 3,
   "metadata": {},
   "outputs": [
    {
     "ename": "ServerSelectionTimeoutError",
     "evalue": "192.168.217.132:27017: timed out, Timeout: 30s, Topology Description: <TopologyDescription id: 60ebaade32a0f18a76cd257f, topology_type: Single, servers: [<ServerDescription ('192.168.217.132', 27017) server_type: Unknown, rtt: None, error=NetworkTimeout('192.168.217.132:27017: timed out')>]>",
     "output_type": "error",
     "traceback": [
      "\u001b[0;31m---------------------------------------------------------------------------\u001b[0m",
      "\u001b[0;31mServerSelectionTimeoutError\u001b[0m               Traceback (most recent call last)",
      "\u001b[0;32m<ipython-input-3-7204a561e7de>\u001b[0m in \u001b[0;36m<module>\u001b[0;34m\u001b[0m\n\u001b[1;32m     10\u001b[0m \u001b[0mclient\u001b[0m \u001b[0;34m=\u001b[0m \u001b[0mMongoClient\u001b[0m\u001b[0;34m(\u001b[0m\u001b[0mhost\u001b[0m\u001b[0;34m=\u001b[0m\u001b[0;34m'192.168.217.132'\u001b[0m\u001b[0;34m,\u001b[0m \u001b[0mport\u001b[0m\u001b[0;34m=\u001b[0m\u001b[0;36m27017\u001b[0m\u001b[0;34m)\u001b[0m\u001b[0;34m\u001b[0m\u001b[0;34m\u001b[0m\u001b[0m\n\u001b[1;32m     11\u001b[0m \u001b[0mdb_auth\u001b[0m \u001b[0;34m=\u001b[0m \u001b[0mclient\u001b[0m\u001b[0;34m.\u001b[0m\u001b[0madmin\u001b[0m\u001b[0;34m\u001b[0m\u001b[0;34m\u001b[0m\u001b[0m\n\u001b[0;32m---> 12\u001b[0;31m \u001b[0mdb_auth\u001b[0m\u001b[0;34m.\u001b[0m\u001b[0mauthenticate\u001b[0m\u001b[0;34m(\u001b[0m\u001b[0;34m\"root\"\u001b[0m\u001b[0;34m,\u001b[0m\u001b[0;34m\"youtube\"\u001b[0m\u001b[0;34m)\u001b[0m\u001b[0;34m\u001b[0m\u001b[0;34m\u001b[0m\u001b[0m\n\u001b[0m\u001b[1;32m     13\u001b[0m \u001b[0;31m# 連線指定資料庫，資料庫名為db_name\u001b[0m\u001b[0;34m\u001b[0m\u001b[0;34m\u001b[0m\u001b[0;34m\u001b[0m\u001b[0m\n\u001b[1;32m     14\u001b[0m \u001b[0mdb\u001b[0m \u001b[0;34m=\u001b[0m \u001b[0mclient\u001b[0m\u001b[0;34m[\u001b[0m\u001b[0;34m'youtube'\u001b[0m\u001b[0;34m]\u001b[0m\u001b[0;34m\u001b[0m\u001b[0;34m\u001b[0m\u001b[0m\n",
      "\u001b[0;32m~/opt/anaconda3/lib/python3.8/site-packages/pymongo/database.py\u001b[0m in \u001b[0;36mauthenticate\u001b[0;34m(self, name, password, source, mechanism, **kwargs)\u001b[0m\n\u001b[1;32m   1490\u001b[0m             self.name)\n\u001b[1;32m   1491\u001b[0m \u001b[0;34m\u001b[0m\u001b[0m\n\u001b[0;32m-> 1492\u001b[0;31m         self.client._cache_credentials(\n\u001b[0m\u001b[1;32m   1493\u001b[0m             \u001b[0mself\u001b[0m\u001b[0;34m.\u001b[0m\u001b[0mname\u001b[0m\u001b[0;34m,\u001b[0m\u001b[0;34m\u001b[0m\u001b[0;34m\u001b[0m\u001b[0m\n\u001b[1;32m   1494\u001b[0m             \u001b[0mcredentials\u001b[0m\u001b[0;34m,\u001b[0m\u001b[0;34m\u001b[0m\u001b[0;34m\u001b[0m\u001b[0m\n",
      "\u001b[0;32m~/opt/anaconda3/lib/python3.8/site-packages/pymongo/mongo_client.py\u001b[0m in \u001b[0;36m_cache_credentials\u001b[0;34m(self, source, credentials, connect)\u001b[0m\n\u001b[1;32m    773\u001b[0m \u001b[0;34m\u001b[0m\u001b[0m\n\u001b[1;32m    774\u001b[0m         \u001b[0;32mif\u001b[0m \u001b[0mconnect\u001b[0m\u001b[0;34m:\u001b[0m\u001b[0;34m\u001b[0m\u001b[0;34m\u001b[0m\u001b[0m\n\u001b[0;32m--> 775\u001b[0;31m             server = self._get_topology().select_server(\n\u001b[0m\u001b[1;32m    776\u001b[0m                 writable_preferred_server_selector)\n\u001b[1;32m    777\u001b[0m \u001b[0;34m\u001b[0m\u001b[0m\n",
      "\u001b[0;32m~/opt/anaconda3/lib/python3.8/site-packages/pymongo/topology.py\u001b[0m in \u001b[0;36mselect_server\u001b[0;34m(self, selector, server_selection_timeout, address)\u001b[0m\n\u001b[1;32m    239\u001b[0m                       address=None):\n\u001b[1;32m    240\u001b[0m         \u001b[0;34m\"\"\"Like select_servers, but choose a random server if several match.\"\"\"\u001b[0m\u001b[0;34m\u001b[0m\u001b[0;34m\u001b[0m\u001b[0m\n\u001b[0;32m--> 241\u001b[0;31m         return random.choice(self.select_servers(selector,\n\u001b[0m\u001b[1;32m    242\u001b[0m                                                  \u001b[0mserver_selection_timeout\u001b[0m\u001b[0;34m,\u001b[0m\u001b[0;34m\u001b[0m\u001b[0;34m\u001b[0m\u001b[0m\n\u001b[1;32m    243\u001b[0m                                                  address))\n",
      "\u001b[0;32m~/opt/anaconda3/lib/python3.8/site-packages/pymongo/topology.py\u001b[0m in \u001b[0;36mselect_servers\u001b[0;34m(self, selector, server_selection_timeout, address)\u001b[0m\n\u001b[1;32m    197\u001b[0m \u001b[0;34m\u001b[0m\u001b[0m\n\u001b[1;32m    198\u001b[0m         \u001b[0;32mwith\u001b[0m \u001b[0mself\u001b[0m\u001b[0;34m.\u001b[0m\u001b[0m_lock\u001b[0m\u001b[0;34m:\u001b[0m\u001b[0;34m\u001b[0m\u001b[0;34m\u001b[0m\u001b[0m\n\u001b[0;32m--> 199\u001b[0;31m             server_descriptions = self._select_servers_loop(\n\u001b[0m\u001b[1;32m    200\u001b[0m                 selector, server_timeout, address)\n\u001b[1;32m    201\u001b[0m \u001b[0;34m\u001b[0m\u001b[0m\n",
      "\u001b[0;32m~/opt/anaconda3/lib/python3.8/site-packages/pymongo/topology.py\u001b[0m in \u001b[0;36m_select_servers_loop\u001b[0;34m(self, selector, timeout, address)\u001b[0m\n\u001b[1;32m    213\u001b[0m             \u001b[0;31m# No suitable servers.\u001b[0m\u001b[0;34m\u001b[0m\u001b[0;34m\u001b[0m\u001b[0;34m\u001b[0m\u001b[0m\n\u001b[1;32m    214\u001b[0m             \u001b[0;32mif\u001b[0m \u001b[0mtimeout\u001b[0m \u001b[0;34m==\u001b[0m \u001b[0;36m0\u001b[0m \u001b[0;32mor\u001b[0m \u001b[0mnow\u001b[0m \u001b[0;34m>\u001b[0m \u001b[0mend_time\u001b[0m\u001b[0;34m:\u001b[0m\u001b[0;34m\u001b[0m\u001b[0;34m\u001b[0m\u001b[0m\n\u001b[0;32m--> 215\u001b[0;31m                 raise ServerSelectionTimeoutError(\n\u001b[0m\u001b[1;32m    216\u001b[0m                     \u001b[0;34m\"%s, Timeout: %ss, Topology Description: %r\"\u001b[0m \u001b[0;34m%\u001b[0m\u001b[0;34m\u001b[0m\u001b[0;34m\u001b[0m\u001b[0m\n\u001b[1;32m    217\u001b[0m                     (self._error_message(selector), timeout, self.description))\n",
      "\u001b[0;31mServerSelectionTimeoutError\u001b[0m: 192.168.217.132:27017: timed out, Timeout: 30s, Topology Description: <TopologyDescription id: 60ebaade32a0f18a76cd257f, topology_type: Single, servers: [<ServerDescription ('192.168.217.132', 27017) server_type: Unknown, rtt: None, error=NetworkTimeout('192.168.217.132:27017: timed out')>]>"
     ]
    }
   ],
   "source": [
    "from gensim.models import word2vec\n",
    "from pymongo import MongoClient\n",
    "import random\n",
    "\"\"\"\n",
    "連線至MongoDB資料庫\n",
    "\"\"\"\n",
    "# client = MongoClient(\"192.168.217.135\", 27017)\n",
    "\n",
    "# 以下一行, host後面請改成已安裝docker並成功啟動思睿壓模檔案的機器IP\n",
    "client = MongoClient(host='192.168.217.132', port=27017)\n",
    "db_auth = client.admin\n",
    "db_auth.authenticate(\"root\",\"youtube\")\n",
    "# 連線指定資料庫，資料庫名為db_name\n",
    "db = client['youtube']\n",
    "\n",
    "\"\"\"\n",
    "導入推薦系統模型\n",
    "\"\"\"\n",
    "# 設定欲比對詞彙\n",
    "KWsearch = input('請輸入欲搜尋標籤: ')\n",
    "\n",
    "keyword = KWsearch\n",
    "\n",
    "topic = ['animation', 'beauty', 'entertainment.travel.daily',\n",
    "         'exercise', 'food', 'game', 'knowledge', 'learn', \n",
    "         'news', 'pet', 'technology', 'variatyshow']\n",
    "#載入12種Model\n",
    "a = 0\n",
    "TotalList=[]\n",
    "maximum = 0\n",
    "title = \"\"\n",
    "checkall = 0\n",
    "TopicList=[]\n",
    "\n",
    "for i in range(12):\n",
    "    try:\n",
    "        model = word2vec.Word2Vec.load(topic[a] + '.word2vec.model')\n",
    "        ItemList=[]\n",
    "        for item in model.wv.most_similar(keyword):\n",
    "            ItemList.append(item)\n",
    "#             以下一行可選擇隱藏\n",
    "#         print('我們在主題: ' + topic[a] + ' 搜尋到您可能喜歡的影片')\n",
    "        TopicList.append(topic[a])\n",
    "        a += 1\n",
    "        TargetList=[]\n",
    "#             以下兩行可選擇隱藏\n",
    "#         print(ItemList[0][0])\n",
    "#         print(ItemList[0][1])\n",
    "        TargetList.append(ItemList[0][0])\n",
    "        TargetList.append(ItemList[0][1])\n",
    "        TotalList.append(TargetList)\n",
    "        \n",
    "        listorder = 0\n",
    "        maximum = TotalList[listorder][1]\n",
    "        for score in TotalList:\n",
    "            if TotalList[listorder][1] >= maximum:\n",
    "                maximum = TotalList[listorder][1]\n",
    "                \n",
    "                MostSimilarTopic = \"\"\n",
    "                for y in range(len(TopicList[listorder])):\n",
    "                    en = TopicList[listorder][y]\n",
    "                    MostSimilarTopic += en\n",
    "                \n",
    "                title = \"\"\n",
    "                for j in range(len(TotalList[listorder][0])):\n",
    "                    ch = TotalList[listorder][0][j]\n",
    "                    title += ch\n",
    "            listorder += 1\n",
    "\n",
    "        if a == 11:\n",
    "            break\n",
    "    except:\n",
    "        checkall += 1\n",
    "#             以下一行可選擇隱藏\n",
    "#         print('我們在主題: ' + topic[a] + ' 搜尋不到您可能喜歡的影片')\n",
    "        a += 1\n",
    "\n",
    "            \n",
    "if checkall ==12:\n",
    "    print('\\n'+'抱歉我們完全找不到您欲搜尋的影片,請再輸入一次!')\n",
    "else:\n",
    "#             以下五行可選擇隱藏\n",
    "    print('\\n')\n",
    "    print('我們將推薦您 ' + str(MostSimilarTopic) + ' 主題')\n",
    "    print('我們認為您也喜歡 ' + str(title) + ' 的影片')\n",
    "    print('該主題與您相似值為: ' + str(maximum))\n",
    "    print('\\n')\n",
    "    \n",
    "    MST = MostSimilarTopic\n",
    "    mycol = db[str(MST)]\n",
    "\n",
    "    import re\n",
    "#     title_re = re.compile(title and keyword)\n",
    "#     title_re = re.compile(keyword and title)\n",
    "    title_re = re.compile(title)\n",
    "    z=0\n",
    "    OutPut=[]\n",
    "    for x in mycol.find({'Title': title_re}, {\"_id\": 0, \"ChannelLink\": 1, 'Title': 1}):\n",
    "        OutPut.append(x)\n",
    "#             以下可選擇隱藏\n",
    "#         print(str(z) + '. ')\n",
    "#         print(x)\n",
    "        z += 1\n",
    "    \n",
    "    x = random.randint(0,int(z))\n",
    "    print('\\n')\n",
    "    print('我們推測您也喜歡下面頻道中這則影片: \\n' + str(x) + '. ' + OutPut[int(x)]['Title'])\n",
    "    print('\\n')\n",
    "    print('請進入該頻道搜尋: ' + 'https://www.youtube.com' + OutPut[int(x)]['ChannelLink'])"
   ]
  }
 ],
 "metadata": {
  "kernelspec": {
   "display_name": "Python 3",
   "language": "python",
   "name": "python3"
  },
  "language_info": {
   "codemirror_mode": {
    "name": "ipython",
    "version": 3
   },
   "file_extension": ".py",
   "mimetype": "text/x-python",
   "name": "python",
   "nbconvert_exporter": "python",
   "pygments_lexer": "ipython3",
   "version": "3.8.5"
  }
 },
 "nbformat": 4,
 "nbformat_minor": 5
}
