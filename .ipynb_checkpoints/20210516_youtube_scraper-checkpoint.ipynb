{
 "cells": [
  {
   "cell_type": "code",
   "execution_count": 3,
   "id": "eb6baefa",
   "metadata": {},
   "outputs": [
    {
     "name": "stdout",
     "output_type": "stream",
     "text": [
      "Defaulting to user installation because normal site-packages is not writeable\n",
      "Requirement already satisfied: youtube-comment-scraper-python in c:\\users\\tibame\\appdata\\roaming\\python\\python38\\site-packages (1.0.0)\n",
      "Requirement already satisfied: bot-studio in c:\\users\\tibame\\appdata\\roaming\\python\\python38\\site-packages (from youtube-comment-scraper-python) (1.0.2)\n",
      "Requirement already satisfied: requests in c:\\users\\tibame\\appdata\\roaming\\python\\python38\\site-packages (from youtube-comment-scraper-python) (2.25.1)\n",
      "Requirement already satisfied: tqdm in c:\\users\\tibame\\appdata\\roaming\\python\\python38\\site-packages (from bot-studio->youtube-comment-scraper-python) (4.60.0)\n",
      "Requirement already satisfied: certifi>=2017.4.17 in c:\\users\\tibame\\appdata\\roaming\\python\\python38\\site-packages (from requests->youtube-comment-scraper-python) (2020.12.5)\n",
      "Requirement already satisfied: urllib3<1.27,>=1.21.1 in c:\\users\\tibame\\appdata\\roaming\\python\\python38\\site-packages (from requests->youtube-comment-scraper-python) (1.26.3)\n",
      "Requirement already satisfied: chardet<5,>=3.0.2 in c:\\users\\tibame\\appdata\\roaming\\python\\python38\\site-packages (from requests->youtube-comment-scraper-python) (4.0.0)\n",
      "Requirement already satisfied: idna<3,>=2.5 in c:\\users\\tibame\\appdata\\roaming\\python\\python38\\site-packages (from requests->youtube-comment-scraper-python) (2.10)\n"
     ]
    }
   ],
   "source": [
    "!pip install youtube-comment-scraper-python\n",
    "# !pip install bot-studio\n",
    "# !pip install pytube"
   ]
  },
  {
   "cell_type": "code",
   "execution_count": null,
   "id": "prime-system",
   "metadata": {},
   "outputs": [
    {
     "name": "stdout",
     "output_type": "stream",
     "text": [
      "Starting DataKund...\n"
     ]
    }
   ],
   "source": [
    "from youtube_comment_scraper_python import *\n",
    "from bot_studio import *\n",
    "from pytube import Playlist\n",
    "import os\n",
    "import re"
   ]
  },
  {
   "cell_type": "code",
   "execution_count": 14,
   "id": "d82ed74c",
   "metadata": {
    "scrolled": true
   },
   "outputs": [
    {
     "name": "stderr",
     "output_type": "stream",
     "text": [
      "Progress:  88%|███████████████████████████████████████████████████████████▌        | 175.0/200 [01:16<00:04,  5.41it/s]\n",
      "Progress: 100%|████████████████████████████████████████████████████████████████████| 200.0/200 [01:19<00:00,  2.53it/s]\u001b[A\n",
      "\n",
      "Progress:  52%|████████████████████████████▋                          | 104.23076923076924/200 [00:12<00:11,  8.57it/s]\u001b[A\n",
      "Progress:  55%|███████████████████████████████                         | 110.8974358974359/200 [00:14<00:11,  7.52it/s]\u001b[A\n",
      "Progress:  57%|███████████████████████████████▍                       | 114.23076923076924/200 [00:16<00:13,  6.25it/s]\u001b[A\n",
      "Progress:  60%|████████████████████████████████▊                      | 119.23076923076925/200 [00:18<00:15,  5.34it/s]\u001b[A\n",
      "Progress:  62%|██████████████████████████████████▏                    | 124.23076923076925/200 [00:20<00:16,  4.61it/s]\u001b[A\n",
      "Progress:  64%|███████████████████████████████████                    | 127.56410256410258/200 [00:22<00:18,  3.81it/s]\u001b[A\n",
      "Progress:  52%|████████████████████████████▋                          | 104.23076923076924/200 [00:10<00:09, 10.32it/s]\u001b[A\n",
      "Progress:  56%|██████████████████████████████▉                        | 112.56410256410258/200 [00:12<00:09,  8.92it/s]\u001b[A\n",
      "Progress:  60%|████████████████████████████████▊                      | 119.23076923076925/200 [00:14<00:10,  7.54it/s]\n",
      "Progress:  63%|██████████████████████████████████▌                    | 125.89743589743591/200 [00:16<00:11,  6.43it/s]\n",
      "Progress:  65%|███████████████████████████████████▌                   | 129.23076923076923/200 [00:18<00:13,  5.14it/s]\n",
      "Progress: 100%|████████████████████████████████████████████████████████████████████| 200.0/200 [00:20<00:00,  9.68it/s]\n",
      "\n",
      "Progress: 320.8974358974359it [00:47,  6.82it/s] \u001b[A\n",
      "Progress:  88%|███████████████████████████████████████████████████████████▌        | 175.0/200 [00:42<00:04,  5.66it/s]\n",
      "Progress: 100%|████████████████████████████████████████████████████████████████████| 200.0/200 [00:44<00:00,  4.48it/s]\u001b[A\n",
      "\n",
      "Progress:  59%|████████████████████████████████▏                      | 117.21611721611723/200 [00:08<00:05, 14.45it/s]\u001b[A\n",
      "Progress: 100%|████████████████████████████████████████████████████████████████████| 200.0/200 [00:10<00:00, 19.73it/s]\u001b[A\n",
      "\n",
      "Progress: 311.02564102564105it [00:22, 13.90it/s]\u001b[A\n",
      "Progress: 100%|████████████████████████████████████████████████████████████████████| 200.0/200 [00:58<00:00,  3.39it/s]\n",
      "Progress:  60%|█████████████████████████████████▏                     | 120.63263838964775/200 [00:14<00:09,  8.12it/s]\n",
      "Progress: 227.52695902228612it [00:28,  7.67it/s]                                                                      \u001b[A\n",
      "Progress: 310.63263838964775it [00:30, 10.11it/s]                     | 118.76347951114306/200 [00:12<00:08,  9.77it/s]\u001b[A\n",
      "\n",
      "Progress: 100%|████████████████████████████████████████████████████████████████████| 200.0/200 [00:14<00:00, 14.10it/s]\u001b[A\n",
      "Progress: 100%|████████████████████████████████████████████████████████████████████| 200.0/200 [00:32<00:00,  6.19it/s]\n",
      "Progress:  64%|███████████████████████████████████▍                   | 128.64468864468864/200 [00:08<00:04, 15.83it/s]\n",
      "Progress: 237.7655677655678it [00:20, 11.47it/s]                                                                       \u001b[A\n",
      "Progress: 312.9304029304029it [00:22, 14.02it/s]▊                     | 122.93040293040293/200 [00:10<00:06, 12.12it/s]\u001b[A\n",
      "\n",
      "Progress: 100%|████████████████████████████████████████████████████████████████████| 200.0/200 [00:12<00:00, 16.42it/s]\u001b[A\n",
      "Progress: 100%|████████████████████████████████████████████████████████████████████| 200.0/200 [00:28<00:00,  7.06it/s]\n",
      "Progress:   0%|                                                                                | 0/200 [00:00<?, ?it/s]\n",
      "Progress:   0%|                                                                                | 0/200 [00:00<?, ?it/s]\u001b[A\n",
      "Progress: 100%|██████████████████████████████████████████████████████████████████████| 200/200 [00:18<00:00, 10.95it/s]\u001b[A\n",
      "\n",
      "Progress: 100%|████████████████████████████████████████████████████████████████████| 200.0/200 [00:10<00:00, 19.46it/s]\u001b[A\n"
     ]
    }
   ],
   "source": [
    "foldername = 'yt-scraper/'\n",
    "if not os.path.exists(foldername):\n",
    "    os.mkdir(foldername)\n",
    "    \n",
    "pl = Playlist(\"https://www.youtube.com/watch?v=VR6iljWgWbU&list=UUlyNNi8jkNGX8rWDTGqnrKg&index=2&ab_channel=%E5%B0%8F%E5%B0%8F%E4%B8%B9%E5%B0%BC%E7%9A%84%E6%91%A9%E6%89%98%E8%BB%8A%E6%97%A5%E8%A8%98\")\n",
    "with open(foldername + 'test.txt', 'w', encoding='utf-8') as f:\n",
    "    f.write(\"\\n\".join(pl))\n",
    "with open(foldername + 'test.txt') as l:\n",
    "    r = l.readlines()\n",
    "    \n",
    "for play in r:    \n",
    "    youtube=bot_studio.youtube()\n",
    "    info = youtube.get_video_info(video_url=play)['body']\n",
    "    title = info['Title']\n",
    "    cn = info['ChannelName']\n",
    "    rstr = r\"[\\/\\\\\\:\\*\\?\\\"\\<\\>\\|]\"  # '/ \\ : * ? \" < > |'\n",
    "    new_title = re.sub(rstr, \"_\", title)  # 替換為下劃線\n",
    "\n",
    "    i=1\n",
    "    sum=0\n",
    "    besum=1\n",
    "\n",
    "    while besum != sum:\n",
    "        if i == 1:\n",
    "            besum = 0\n",
    "        else:\n",
    "            besum = sum\n",
    "        comments = youtube.video_comments()\n",
    "        sum = len(comments['body'])\n",
    "        i +=1\n",
    "    \n",
    "    with open(foldername + new_title + '.txt', 'w', encoding='utf-8') as f:\n",
    "        f.write(str(info))\n",
    "        f.write(\"\\n \\n--------------------------------------------------------------------------------\\n \\n\")\n",
    "        f.write(str(comments['body']))\n",
    "    youtube.end()\n",
    "    \n",
    "os.rename(\"yt-scraper\",cn)\n",
    "scrfilename = cn + \"\\\\test.txt\"          #修改前的檔名\n",
    "nowfilename = cn + \"\\\\\" + cn + \".txt\"       #修改的檔名\n",
    "os.rename(scrfilename, nowfilename)\n"
   ]
  }
 ],
 "metadata": {
  "kernelspec": {
   "display_name": "Python 3",
   "language": "python",
   "name": "python3"
  },
  "language_info": {
   "codemirror_mode": {
    "name": "ipython",
    "version": 3
   },
   "file_extension": ".py",
   "mimetype": "text/x-python",
   "name": "python",
   "nbconvert_exporter": "python",
   "pygments_lexer": "ipython3",
   "version": "3.8.7"
  }
 },
 "nbformat": 4,
 "nbformat_minor": 5
}
