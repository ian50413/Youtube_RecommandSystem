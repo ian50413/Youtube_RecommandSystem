{
 "cells": [
  {
   "cell_type": "code",
   "execution_count": null,
   "id": "objective-amino",
   "metadata": {},
   "outputs": [],
   "source": [
    "運動:[有氧運動,健身,增肌,運動,減肥運動,減脂運動,腹肌,有氧,健身房]\n",
    "coffee林芊妤 258: https://www.youtube.com/watch?v=lE9Hkfuq_pw&list=UUxCZqbizSsnntlz6w0fN8hA&index=2\n",
    "大H 28: https://www.youtube.com/watch?v=L8VEBpwKwf4&list=UUZbUlBcZaLvllWj8MOv8JiQ&index=2\n",
    "黃士倫 82: https://www.youtube.com/watch?v=MbN9N45iyic&list=UUbdiHAzShzqcTbq4J4TPiCg&index=2\n",
    "健身運動協會 195: https://www.youtube.com/watch?v=NTm0OaZFZmo&list=UUM5lTH5jhUFp7BaPCcuoLlg&index=2\n",
    "健人蓋伊 211: https://www.youtube.com/watch?v=qGf1-usZ0Fk&list=UUpGGLFkG4heKm6hnJYn5HxA&index=2"
   ]
  },
  {
   "cell_type": "code",
   "execution_count": null,
   "id": "finnish-silence",
   "metadata": {},
   "outputs": [],
   "source": []
  }
 ],
 "metadata": {
  "kernelspec": {
   "display_name": "Python 3",
   "language": "python",
   "name": "python3"
  },
  "language_info": {
   "codemirror_mode": {
    "name": "ipython",
    "version": 3
   },
   "file_extension": ".py",
   "mimetype": "text/x-python",
   "name": "python",
   "nbconvert_exporter": "python",
   "pygments_lexer": "ipython3",
   "version": "3.8.7"
  }
 },
 "nbformat": 4,
 "nbformat_minor": 5
}
